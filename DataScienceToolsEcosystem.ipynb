{
 "cells": [
  {
   "cell_type": "markdown",
   "id": "e61b19ba-5c8c-41d4-b8d8-7f586a2529d0",
   "metadata": {},
   "source": [
    "# Data Science Tools and Ecosystem"
   ]
  },
  {
   "cell_type": "markdown",
   "id": "e83fca39-6682-4f25-b498-b329a2cfa145",
   "metadata": {},
   "source": [
    "# In this Notebook, Data Science tools and Ecosystems are summarized"
   ]
  },
  {
   "cell_type": "markdown",
   "id": "e6904554-d289-4250-baec-90e04ad9f42e",
   "metadata": {},
   "source": [
    "# Some of the key takeaways from the course\n",
    "1) Data Science Tools\n",
    "2) Data Science Languages\n",
    "3) Commonly used Libraries"
   ]
  },
  {
   "cell_type": "markdown",
   "id": "e0859b9a-4543-4233-8e80-c98bc653e566",
   "metadata": {},
   "source": [
    "# Some of the popular languages Data Scientists use are:\n",
    "1. Python\n",
    "2. R\n",
    "3. SQL\n"
   ]
  },
  {
   "cell_type": "markdown",
   "id": "0acca95c-de26-4904-990e-010452d8c786",
   "metadata": {},
   "source": [
    "# Some of the commonly used libraries by Data Scientists are\n",
    "1. NumPy\n",
    "2. Pandas\n",
    "3. Matplotlib\n"
   ]
  },
  {
   "cell_type": "markdown",
   "id": "84898d5e-de85-4c74-8864-1b4db0eea291",
   "metadata": {},
   "source": [
    "| Data Science Tools   |\n",
    "|----------------------|\n",
    "| Jupyter Notebook     |\n",
    "| RStudio              |\n",
    "| Visual Studio Code   |\n"
   ]
  },
  {
   "cell_type": "markdown",
   "id": "965bb2e7-85e5-45cf-b3db-f737355e9216",
   "metadata": {},
   "source": [
    "# This is a simple arithmetic expression to multiply and then add integers"
   ]
  },
  {
   "cell_type": "code",
   "execution_count": 5,
   "id": "f421155c-ed6d-4c01-98d7-b1f96a3e075d",
   "metadata": {
    "tags": []
   },
   "outputs": [
    {
     "data": {
      "text/plain": [
       "17"
      ]
     },
     "execution_count": 5,
     "metadata": {},
     "output_type": "execute_result"
    }
   ],
   "source": [
    "(3*4)+5"
   ]
  },
  {
   "cell_type": "code",
   "execution_count": 7,
   "id": "3125f218-3ecf-4ed3-8069-daf6dad6753f",
   "metadata": {},
   "outputs": [
    {
     "name": "stdout",
     "output_type": "stream",
     "text": [
      "This will convert 200 minutes into hours\n"
     ]
    },
    {
     "data": {
      "text/plain": [
       "3.3333333333333335"
      ]
     },
     "execution_count": 7,
     "metadata": {},
     "output_type": "execute_result"
    }
   ],
   "source": [
    "print(\"This will convert 200 minutes into hours\")\n",
    "minutes = 200\n",
    "hours = minutes/60\n",
    "hours\n"
   ]
  },
  {
   "cell_type": "markdown",
   "id": "29d84b94-6983-4283-a2c9-8653183bd457",
   "metadata": {},
   "source": [
    "# Author:\n",
    "## Hassan Ali"
   ]
  },
  {
   "cell_type": "code",
   "execution_count": null,
   "id": "8dbf2c56-2889-455f-804b-a0f5dc0042ec",
   "metadata": {},
   "outputs": [],
   "source": []
  }
 ],
 "metadata": {
  "kernelspec": {
   "display_name": "Python",
   "language": "python",
   "name": "conda-env-python-py"
  },
  "language_info": {
   "codemirror_mode": {
    "name": "ipython",
    "version": 3
   },
   "file_extension": ".py",
   "mimetype": "text/x-python",
   "name": "python",
   "nbconvert_exporter": "python",
   "pygments_lexer": "ipython3",
   "version": "3.7.12"
  }
 },
 "nbformat": 4,
 "nbformat_minor": 5
}
